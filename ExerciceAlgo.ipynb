{
 "cells": [
  {
   "cell_type": "markdown",
   "metadata": {
    "id": "FmvkvZch2hMM"
   },
   "source": [
    "Exercice d'algorithmes \n",
    "\n",
    " \n",
    "**Condition et produit**"
   ]
  },
  {
   "cell_type": "code",
   "execution_count": 4,
   "metadata": {
    "colab": {
     "base_uri": "https://localhost:8080/"
    },
    "id": "IwXgegwM0_l2",
    "outputId": "8846ab1a-7977-4cbe-de58-974408321cdb"
   },
   "outputs": [
    {
     "name": "stdout",
     "output_type": "stream",
     "text": [
      "premier nombre : -2\n",
      "deuxieme nombre : -2\n",
      "le produit est positif\n"
     ]
    }
   ],
   "source": [
    "n1 = int(input(\"premier nombre : \"))\n",
    "n2 = int(input(\"deuxieme nombre : \"))\n",
    "if n1 < 1 and n2 < 1:\n",
    "    print(\"le produit est positif\")\n",
    "elif n1 < 1 or n2 < 1:\n",
    "    print(\"le produit est negatif\")\n",
    "else:\n",
    "    print(\"le produit est positif\")\n"
   ]
  },
  {
   "cell_type": "markdown",
   "metadata": {
    "id": "345DV1np26j1"
   },
   "source": [
    "**Additivité**"
   ]
  },
  {
   "cell_type": "code",
   "execution_count": 8,
   "metadata": {
    "colab": {
     "base_uri": "https://localhost:8080/"
    },
    "id": "VfAv9j6524Mo",
    "outputId": "ad9807e2-2fb6-49dc-9592-306cce4d4589"
   },
   "outputs": [
    {
     "name": "stdout",
     "output_type": "stream",
     "text": [
      "choisi ton chiffre6\n",
      "21\n"
     ]
    }
   ],
   "source": [
    "n = int(input(\"choisi ton chiffre\"))\n",
    "for i in range(n):\n",
    "  n=n+i\n",
    "print(n)"
   ]
  },
  {
   "cell_type": "markdown",
   "metadata": {
    "id": "ixFbGbCE4sQy"
   },
   "source": [
    "**Somme des éléments d'un tableau**"
   ]
  },
  {
   "cell_type": "code",
   "execution_count": 15,
   "metadata": {
    "colab": {
     "base_uri": "https://localhost:8080/"
    },
    "id": "14nBDqfc5ADW",
    "outputId": "e536f7f8-2f81-48d2-b0a0-05911e899621"
   },
   "outputs": [
    {
     "name": "stdout",
     "output_type": "stream",
     "text": [
      "la somme du tableau est 15\n"
     ]
    }
   ],
   "source": [
    "t = [1,3,5,6]\n",
    "c = 0\n",
    "for i in t:\n",
    "  c = c + i\n",
    "print (\"la somme du tableau est\", c)"
   ]
  },
  {
   "cell_type": "markdown",
   "metadata": {
    "id": "tZiLE21y7VMZ"
   },
   "source": [
    "**FacProduct**"
   ]
  },
  {
   "cell_type": "code",
   "execution_count": 35,
   "metadata": {
    "colab": {
     "base_uri": "https://localhost:8080/"
    },
    "id": "nkXS97mU7As1",
    "outputId": "5a6e3057-970c-4a9b-dc48-dfc79e9a4c7f"
   },
   "outputs": [
    {
     "name": "stdout",
     "output_type": "stream",
     "text": [
      "70\n"
     ]
    }
   ],
   "source": [
    "t1 = [1,2,3,4] \n",
    "t2 = [5,6,7,8]\n",
    "c1 = 0\n",
    "c2 = 0\n",
    "c3 = 0\n",
    "c4 = 0\n",
    "i = 0\n",
    "\n",
    "while i < len(t1):\n",
    "  c1 = t1[i]\n",
    "  c2 = t2[i]\n",
    "  c3 = c1 * c2\n",
    "  c4 = c3 + c4\n",
    "  i = i + 1\n",
    "print(c4)\n",
    "\n"
   ]
  },
  {
   "cell_type": "markdown",
   "metadata": {
    "id": "hPT45GmhNWLK"
   },
   "source": [
    "**Le plus grand**"
   ]
  },
  {
   "cell_type": "code",
   "execution_count": 4,
   "metadata": {
    "colab": {
     "base_uri": "https://localhost:8080/"
    },
    "id": "xnKpzzWNNgxc",
    "outputId": "c2cb15c6-fd79-447f-fcb5-8d8a052a20fb"
   },
   "outputs": [
    {
     "name": "stdout",
     "output_type": "stream",
     "text": [
      "Les valeurs de la liste : 1 2 3 45 67 67 3 2\n",
      "[1, 2, 3, 45, 67, 67, 3, 2]\n",
      "67\n"
     ]
    }
   ],
   "source": [
    "liste = []\n",
    "list1 = [int(item) for item in input(\"Les valeurs de la liste : \").split()]\n",
    "\n",
    "a = 0\n",
    "b = 0\n",
    "c = 0\n",
    "i = 0\n",
    "\n",
    "print(list1)\n",
    "\n",
    "while i < len(list1):\n",
    "    a = list1[i]\n",
    "    \n",
    "    if a > b and a > c :\n",
    "        c = a\n",
    "        b = a \n",
    "        \n",
    "    if a < b or a < c :\n",
    "        b = a \n",
    "    \n",
    "    i = i + 1\n",
    "\n",
    "print(c)"
   ]
  },
  {
   "cell_type": "markdown",
   "metadata": {},
   "source": [
    "**Plus grand que la moyenne**"
   ]
  },
  {
   "cell_type": "code",
   "execution_count": 8,
   "metadata": {},
   "outputs": [
    {
     "name": "stdout",
     "output_type": "stream",
     "text": [
      "Les valeurs de la liste : 4 5 6 8 32 44 2\n",
      "[4, 5, 6, 8, 32, 44, 2]\n",
      "La moyenne de la liste est ...  14.428571428571429\n",
      "Il y a  2 nombre au dessus de la moyenne\n"
     ]
    }
   ],
   "source": [
    "liste = []\n",
    "liste1 = [int(item) for item in input(\"Les valeurs de la liste : \").split()]\n",
    "\n",
    "valeurListe = 0\n",
    "sommeMoyenne = 0\n",
    "moyenne = 0\n",
    "sommeAuDessus = 0\n",
    "\n",
    "i = 0\n",
    "j = 0\n",
    "\n",
    "print(liste1)\n",
    "\n",
    "while i < len(liste1):\n",
    "    valeurListe = liste1[i]\n",
    "    sommeMoyenne = valeurListe + sommeMoyenne\n",
    "    i = i + 1\n",
    "    \n",
    "moyenne = sommeMoyenne / len(liste1)\n",
    "print(\"La moyenne de la liste est ... \",moyenne)\n",
    "\n",
    "while j < len(liste1):\n",
    "    valeurListe = liste1[j]\n",
    "    \n",
    "    if valeurListe > moyenne :\n",
    "        sommeAuDessus = sommeAuDessus + 1\n",
    "\n",
    "    j = j + 1\n",
    "    \n",
    "print(\"Il y a \", sommeAuDessus , \"nombre au dessus de la moyenne\")"
   ]
  },
  {
   "cell_type": "markdown",
   "metadata": {},
   "source": [
    "**Multiplier des vecteurs**"
   ]
  },
  {
   "cell_type": "code",
   "execution_count": 4,
   "metadata": {},
   "outputs": [
    {
     "name": "stdout",
     "output_type": "stream",
     "text": [
      "[6 8 3 2 2 1 3 0] [4 5 3 6 2 2 7 9]\n",
      "112\n"
     ]
    }
   ],
   "source": [
    "import numpy as np\n",
    "\n",
    "v = np.array([6,8,3,2,2,1,3,0])\n",
    "v1 = np.array([4,5,3,6,2,2,7])\n",
    "\n",
    "print(v, v1)\n",
    "\n",
    "valeur1 = 0\n",
    "valeur2 = 0\n",
    "somme = 0\n",
    "sommeFinale = 0\n",
    "i = 0\n",
    "\n",
    "while i < len(v):\n",
    "    valeur1 = v[i]\n",
    "    valeur2 = v1[i]\n",
    "    somme = valeur1 * valeur2\n",
    "    sommeFinale = somme + sommeFinale\n",
    "    i = i + 1\n",
    "    \n",
    "print(sommeFinale)"
   ]
  },
  {
   "cell_type": "markdown",
   "metadata": {},
   "source": [
    "**Tris**"
   ]
  },
  {
   "cell_type": "code",
   "execution_count": 22,
   "metadata": {},
   "outputs": [
    {
     "name": "stdout",
     "output_type": "stream",
     "text": [
      "[5, 8, 10, 33, 43, 2, 4, 3, 2, 1]\n",
      "[1, 2, 2, 3, 4, 5, 8, 10, 33, 43]\n"
     ]
    }
   ],
   "source": [
    "t = [5,8,10,33,43,2,4,3,2,1]\n",
    "\n",
    "valeur1 = 0\n",
    "valeur2 = 0\n",
    "i = 0\n",
    "\n",
    "print (t)\n",
    "\n",
    "while i < len(t):\n",
    "        \n",
    "    if i + 1 < len(t) and t[i] > t[i+1]:\n",
    "        valeur1 = t[i]\n",
    "        t[i] = t[i+1]\n",
    "        t[i + 1] = valeur1\n",
    "        i = 0\n",
    "    else:  \n",
    "        i = i+1\n",
    "    \n",
    "        \n",
    "    \n",
    "print(t)\n",
    "    "
   ]
  },
  {
   "cell_type": "markdown",
   "metadata": {},
   "source": [
    "**Factorielle**"
   ]
  },
  {
   "cell_type": "code",
   "execution_count": 23,
   "metadata": {},
   "outputs": [
    {
     "name": "stdout",
     "output_type": "stream",
     "text": [
      "8\n",
      "40320\n"
     ]
    }
   ],
   "source": [
    "nombre = int(input())\n",
    "calcul = 1\n",
    "\n",
    "if nombre <= 1 :\n",
    "    print(1)\n",
    "    \n",
    "for i in range (nombre):\n",
    "    if i == 0 :\n",
    "        calcul = nombre\n",
    "    else:\n",
    "        calcul = calcul * (nombre - i )\n",
    "    \n",
    "print(calcul)"
   ]
  },
  {
   "cell_type": "markdown",
   "metadata": {},
   "source": [
    "**La multiplication matricielle**"
   ]
  },
  {
   "cell_type": "code",
   "execution_count": 55,
   "metadata": {
    "scrolled": true
   },
   "outputs": [
    {
     "name": "stdout",
     "output_type": "stream",
     "text": [
      "il y a  2 lignes\n",
      "[19, 22, 43, 50]\n"
     ]
    }
   ],
   "source": [
    "A = [ [1,2],\n",
    "      [3,4] ]\n",
    "B = [ [5,6],\n",
    "      [7,8] ]\n",
    "C = []\n",
    "\n",
    "\n",
    "ligneA = len(A)\n",
    "colonneA = len(A[0])\n",
    "colonneB = len(B[0])\n",
    "\n",
    "print(\"il y a \", ligneA ,\"lignes\")\n",
    "\n",
    "for i in range(colonneA):\n",
    "    for j in range(colonneB):\n",
    "        y = 0\n",
    "        for k in range(colonneA):\n",
    "            y = y + (A[i][k] * B[k][j])\n",
    "        C.append(y)  \n",
    "print(C)"
   ]
  },
  {
   "cell_type": "markdown",
   "metadata": {},
   "source": [
    "**Suite de Fibonacci**"
   ]
  },
  {
   "cell_type": "code",
   "execution_count": 20,
   "metadata": {},
   "outputs": [
    {
     "name": "stdout",
     "output_type": "stream",
     "text": [
      "0\n",
      "1\n",
      "1\n",
      "2\n",
      "3\n",
      "5\n",
      "8\n"
     ]
    }
   ],
   "source": [
    "def FIBO(n):\n",
    "    f0 = 0\n",
    "    f1 = 1\n",
    "    f2 = 0\n",
    "    i = 0\n",
    "    print(f0)\n",
    "    print(f1)\n",
    "    \n",
    "    \n",
    "    while i <= n:\n",
    "        i = i + 2\n",
    "        f2 = f1 + f0\n",
    "        print(f2)\n",
    "        \n",
    "        if i >= n:\n",
    "            break\n",
    "          \n",
    "        f0 = f2\n",
    "        f2 = f1 + f0\n",
    "        print(f2)\n",
    "        f1 = f2\n",
    "        \n",
    "\n",
    "FIBO(6)"
   ]
  },
  {
   "cell_type": "markdown",
   "metadata": {},
   "source": [
    "**Le temps d'arrêt**"
   ]
  },
  {
   "cell_type": "code",
   "execution_count": 26,
   "metadata": {},
   "outputs": [
    {
     "name": "stdout",
     "output_type": "stream",
     "text": [
      "2\n",
      "le plus petit entier est 4\n"
     ]
    }
   ],
   "source": [
    "plusPetit = int(input())\n",
    "x1 = 0\n",
    "somme = 0\n",
    "n = 0\n",
    "fin = True\n",
    "\n",
    "while fin == True:\n",
    "    n = n + 1\n",
    "    if n == 0 : \n",
    "        somme = somme + x1\n",
    "    else:\n",
    "        x1 = 1 / n\n",
    "        somme = somme + x1\n",
    "        \n",
    "    if somme > plusPetit:\n",
    "        print(\"le plus petit entier est\", n)\n",
    "        fin = False"
   ]
  },
  {
   "cell_type": "code",
   "execution_count": null,
   "metadata": {},
   "outputs": [],
   "source": []
  }
 ],
 "metadata": {
  "colab": {
   "collapsed_sections": [],
   "provenance": []
  },
  "kernelspec": {
   "display_name": "Python 3 (ipykernel)",
   "language": "python",
   "name": "python3"
  },
  "language_info": {
   "codemirror_mode": {
    "name": "ipython",
    "version": 3
   },
   "file_extension": ".py",
   "mimetype": "text/x-python",
   "name": "python",
   "nbconvert_exporter": "python",
   "pygments_lexer": "ipython3",
   "version": "3.9.12"
  }
 },
 "nbformat": 4,
 "nbformat_minor": 1
}
