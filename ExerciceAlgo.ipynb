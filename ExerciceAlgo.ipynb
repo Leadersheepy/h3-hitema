{
  "nbformat": 4,
  "nbformat_minor": 0,
  "metadata": {
    "colab": {
      "provenance": [],
      "collapsed_sections": []
    },
    "kernelspec": {
      "name": "python3",
      "display_name": "Python 3"
    },
    "language_info": {
      "name": "python"
    }
  },
  "cells": [
    {
      "cell_type": "markdown",
      "source": [
        "Exercice d'algorithmes \n",
        "\n",
        "Exercice 1 : \n",
        "Condition et produit"
      ],
      "metadata": {
        "id": "FmvkvZch2hMM"
      }
    },
    {
      "cell_type": "code",
      "execution_count": 4,
      "metadata": {
        "colab": {
          "base_uri": "https://localhost:8080/"
        },
        "id": "IwXgegwM0_l2",
        "outputId": "8846ab1a-7977-4cbe-de58-974408321cdb"
      },
      "outputs": [
        {
          "output_type": "stream",
          "name": "stdout",
          "text": [
            "premier nombre : -2\n",
            "deuxieme nombre : -2\n",
            "le produit est positif\n"
          ]
        }
      ],
      "source": [
        "n1 = int(input(\"premier nombre : \"))\n",
        "n2 = int(input(\"deuxieme nombre : \"))\n",
        "if n1 < 1 and n2 < 1:\n",
        "    print(\"le produit est positif\")\n",
        "elif n1 < 1 or n2 < 1:\n",
        "    print(\"le produit est negatif\")\n",
        "else:\n",
        "    print(\"le produit est positif\")\n"
      ]
    },
    {
      "cell_type": "markdown",
      "source": [
        "Additivité"
      ],
      "metadata": {
        "id": "345DV1np26j1"
      }
    },
    {
      "cell_type": "code",
      "source": [
        "n = int(input(\"choisi ton chiffre\"))\n",
        "for i in range(n):\n",
        "  n=n+i\n",
        "print(n)"
      ],
      "metadata": {
        "colab": {
          "base_uri": "https://localhost:8080/"
        },
        "id": "VfAv9j6524Mo",
        "outputId": "ad9807e2-2fb6-49dc-9592-306cce4d4589"
      },
      "execution_count": 8,
      "outputs": [
        {
          "output_type": "stream",
          "name": "stdout",
          "text": [
            "choisi ton chiffre6\n",
            "21\n"
          ]
        }
      ]
    },
    {
      "cell_type": "markdown",
      "source": [
        "Somme des éléments d'un tableau"
      ],
      "metadata": {
        "id": "ixFbGbCE4sQy"
      }
    },
    {
      "cell_type": "code",
      "source": [
        "t = [1,3,5,6]\n",
        "c = 0\n",
        "for i in t:\n",
        "  c = c + i\n",
        "print (\"la somme du tableau est\", c)"
      ],
      "metadata": {
        "colab": {
          "base_uri": "https://localhost:8080/"
        },
        "id": "14nBDqfc5ADW",
        "outputId": "e536f7f8-2f81-48d2-b0a0-05911e899621"
      },
      "execution_count": 15,
      "outputs": [
        {
          "output_type": "stream",
          "name": "stdout",
          "text": [
            "la somme du tableau est 15\n"
          ]
        }
      ]
    },
    {
      "cell_type": "markdown",
      "source": [
        "FacProduct"
      ],
      "metadata": {
        "id": "tZiLE21y7VMZ"
      }
    },
    {
      "cell_type": "code",
      "source": [
        "t1 = [1,2,3,4] \n",
        "t2 = [5,6,7,8]\n",
        "c1 = 0\n",
        "c2 = 0\n",
        "c3 = 0\n",
        "c4 = 0\n",
        "i = 0\n",
        "\n",
        "while i < len(t1):\n",
        "  c1 = t1[i]\n",
        "  c2 = t2[i]\n",
        "  c3 = c1 * c2\n",
        "  c4 = c3 + c4\n",
        "  i = i + 1\n",
        "print(c4)\n",
        "\n"
      ],
      "metadata": {
        "colab": {
          "base_uri": "https://localhost:8080/"
        },
        "id": "nkXS97mU7As1",
        "outputId": "5a6e3057-970c-4a9b-dc48-dfc79e9a4c7f"
      },
      "execution_count": 35,
      "outputs": [
        {
          "output_type": "stream",
          "name": "stdout",
          "text": [
            "70\n"
          ]
        }
      ]
    },
    {
      "cell_type": "markdown",
      "source": [
        "Le plus grand"
      ],
      "metadata": {
        "id": "hPT45GmhNWLK"
      }
    },
    {
      "cell_type": "code",
      "source": [
        "tab = input(\"crée un tableau : \")\n",
        "x = tab.split(\",\")\n",
        "a=0\n",
        "b=0\n",
        "print(x)\n",
        "while i < len(x):\n",
        "  a = x[i]\n",
        "\n",
        "  if \n",
        "\n",
        "\n"
      ],
      "metadata": {
        "colab": {
          "base_uri": "https://localhost:8080/"
        },
        "id": "xnKpzzWNNgxc",
        "outputId": "c2cb15c6-fd79-447f-fcb5-8d8a052a20fb"
      },
      "execution_count": 39,
      "outputs": [
        {
          "output_type": "stream",
          "name": "stdout",
          "text": [
            "crée un tableau : 1,2,3,4\n",
            "['1', '2', '3', '4']\n"
          ]
        }
      ]
    }
  ]
}